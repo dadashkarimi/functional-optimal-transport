{
 "cells": [
  {
   "cell_type": "code",
   "execution_count": 7,
   "metadata": {},
   "outputs": [],
   "source": [
    "%matplotlib inline"
   ]
  },
  {
   "cell_type": "markdown",
   "metadata": {},
   "source": [
    "\n",
    "# 1D optimal transport\n",
    "\n",
    "\n",
    "This example illustrates the computation of EMD and Sinkhorn transport plans\n",
    "and their visualization.\n",
    "\n",
    "\n"
   ]
  },
  {
   "cell_type": "markdown",
   "metadata": {},
   "source": [
    "HCP dataset: Generate data\n",
    "-------------\n",
    "\n"
   ]
  },
  {
   "cell_type": "code",
   "execution_count": 1,
   "metadata": {},
   "outputs": [],
   "source": [
    "# Author: Remi Flamary <remi.flamary@unice.fr>\n",
    "#\n",
    "# License: MIT License\n",
    "\n",
    "import numpy as np\n",
    "import matplotlib.pylab as pl\n",
    "import matplotlib.pyplot as plt\n",
    "\n",
    "import ot\n",
    "import ot.plot\n",
    "from ot.datasets import make_1D_gauss as gauss\n",
    "import pandas as pd\n",
    "from sklearn import preprocessing\n",
    "from sklearn.preprocessing import normalize\n",
    "from scipy.io import loadmat\n",
    "\n",
    "from scipy.io import loadmat\n",
    "import ot\n",
    "import ot.plot\n",
    "from ot.datasets import make_1D_gauss as gauss\n",
    "import pandas as pd\n",
    "import random\n",
    "import scipy.io as sio\n",
    "\n",
    "import ot\n",
    "import ot.plot\n",
    "from ot.datasets import make_1D_gauss as gauss\n",
    "import pandas as pd\n",
    "import random\n",
    "from progress.bar import Bar\n",
    "\n",
    "def corr2_coeff(A, B):\n",
    "    # Rowwise mean of input arrays & subtract from input arrays themeselves\n",
    "    A_mA = A - A.mean(1)[:, None]\n",
    "    B_mB = B - B.mean(1)[:, None]    # Sum of squares across rows\n",
    "    ssA = (A_mA**2).sum(1)\n",
    "    ssB = (B_mB**2).sum(1)\n",
    "\n",
    "    # Finally get corr coeff\n",
    "    return np.dot(A_mA, B_mB.T) / np.sqrt(np.dot(ssA[:, None],ssB[None]))\n",
    "\n",
    "\n",
    "all_268_mat = sio.loadmat('data/REST1/all_268.mat')\n",
    "all_368_mat = sio.loadmat('data/REST1/all_368.mat')\n",
    "all_268 = all_268_mat['data']\n",
    "all_368 = all_368_mat['data']\n",
    "from numpy import genfromtxt\n",
    "all_behav = genfromtxt('data/REST1/IQ.txt', delimiter=',')\n",
    "all_sex = genfromtxt('data/REST1/gender.txt', delimiter=',')\n",
    "\n",
    "test_size = 200\n",
    "train_size = all_268.shape[0]-test_size\n",
    "random_samples = random.sample(range(0, all_268.shape[0]), all_268.shape[0])\n",
    "train_index = random_samples[0:train_size]\n",
    "test_index = random_samples[train_size:]\n",
    "\n",
    "coord_268 =pd.read_csv('data/REST1/shen_268_matrix.csv', sep=',',header=None)\n",
    "coord_368 = pd.read_csv('data/REST1/shen_367_matrix.csv', sep=',',header=None)\n",
    "M = ot.dist(coord_268, coord_368,metric='cityblock')\n",
    "M /= M.max()\n",
    "\n",
    "# x = np.arange(268, dtype=np.float64)\n",
    "# y = np.arange(367, dtype=np.float64)\n",
    "# M = ot.dist(x.reshape((268, 1)), y.reshape((367, 1)))\n",
    "# M /= M.max()\n",
    "\n",
    "M = corr2_coeff(all_268[1].T,all_368[1].T)\n",
    "M = (M - np.min(M))/np.ptp(M)\n",
    "M = 1-M\n",
    "#M /=M.max() "
   ]
  },
  {
   "cell_type": "code",
   "execution_count": 2,
   "metadata": {},
   "outputs": [
    {
     "name": "stderr",
     "output_type": "stream",
     "text": [
      "Correlation: 100%|████████████████████████████| 876/876 [00:55<00:00, 15.90it/s]\n"
     ]
    }
   ],
   "source": [
    "from tqdm import tqdm\n",
    "from scipy import stats\n",
    "\n",
    "all_368_mats = np.zeros((all_368.shape[0],all_368.shape[2],all_368.shape[2]))\n",
    "all_268_mats = np.zeros((all_268.shape[0],all_268.shape[2],all_268.shape[2]))\n",
    "\n",
    "for j in tqdm(range(all_268.shape[0]),\"Correlation\", ncols = 80, position = 0):\n",
    "    all_368_mats[j] = corr2_coeff(all_368[j].T,all_368[j].T)\n",
    "    all_268_mats[j] = corr2_coeff(all_268[j].T,all_268[j].T)\n",
    "    \n"
   ]
  },
  {
   "cell_type": "code",
   "execution_count": 3,
   "metadata": {},
   "outputs": [
    {
     "ename": "NameError",
     "evalue": "name 'G' is not defined",
     "output_type": "error",
     "traceback": [
      "\u001b[1;31m---------------------------------------------------------------------------\u001b[0m",
      "\u001b[1;31mNameError\u001b[0m                                 Traceback (most recent call last)",
      "\u001b[1;32m<ipython-input-3-fcaf0f48408f>\u001b[0m in \u001b[0;36m<module>\u001b[1;34m\u001b[0m\n\u001b[1;32m----> 1\u001b[1;33m \u001b[0mprint\u001b[0m\u001b[1;33m(\u001b[0m\u001b[0mG\u001b[0m\u001b[1;33m)\u001b[0m\u001b[1;33m\u001b[0m\u001b[1;33m\u001b[0m\u001b[0m\n\u001b[0m",
      "\u001b[1;31mNameError\u001b[0m: name 'G' is not defined"
     ]
    }
   ],
   "source": [
    "print(G)"
   ]
  },
  {
   "cell_type": "markdown",
   "metadata": {},
   "source": [
    "# Optimal Transport: Intrinsic Evaluation"
   ]
  },
  {
   "cell_type": "code",
   "execution_count": 4,
   "metadata": {},
   "outputs": [
    {
     "name": "stderr",
     "output_type": "stream",
     "text": [
      "Optimal Transport: 100%|█████████████████████████| 1/1 [08:33<00:00, 513.25s/it]\n"
     ]
    }
   ],
   "source": [
    "from tqdm import tqdm\n",
    "def normalize(x):\n",
    "    return (x-min(x))/(max(x)-min(x))\n",
    "num_subj, num_time_points = all_268.shape[:2]\n",
    "#num_time_points = 1\n",
    "frame_size = 1200\n",
    "num_frames = num_time_points/frame_size\n",
    "#pl.figure(3, figsize=(7, 3))\n",
    "from matplotlib import pyplot as plt\n",
    "nrow=2\n",
    "ncol=3\n",
    "#fig, axes = plt.subplots(ncols=ncol,nrows=nrow, figsize=(20, 10))\n",
    "G = np.zeros((num_time_points,268,367))\n",
    "\n",
    "for i in tqdm(range(0,num_time_points,frame_size),\"Optimal Transport\", ncols = 80, position = 0):#range(num_time_points):\n",
    "    for j in range(train_size):#(train_size):\n",
    "        lambd = 1e-3\n",
    "        a2 = all_268[train_index[j],i,:]\n",
    "        b2 = all_368[train_index[j],i,:]\n",
    "        a2 = normalize(a2)+1e-5\n",
    "        b2 = normalize(b2)+1e-5\n",
    "\n",
    "        a2= a2/a2.sum(axis=0,keepdims=1)\n",
    "        b2= b2/b2.sum(axis=0,keepdims=1)\n",
    "        m = ot.sinkhorn(a2, b2, M, lambd, verbose=False)\n",
    "        m = m/m.sum(axis=0,keepdims=1)\n",
    "        G[i:i+frame_size] = G[i:i+frame_size]+ m\n",
    "    G[i:i+frame_size] = G[i:i+frame_size]/train_size"
   ]
  },
  {
   "cell_type": "code",
   "execution_count": 7,
   "metadata": {},
   "outputs": [
    {
     "name": "stdout",
     "output_type": "stream",
     "text": [
      "(367, 367)\n"
     ]
    }
   ],
   "source": [
    "print(all_368_mats[test_index][0].shape)"
   ]
  },
  {
   "cell_type": "code",
   "execution_count": 52,
   "metadata": {},
   "outputs": [
    {
     "name": "stderr",
     "output_type": "stream",
     "text": [
      "Timeseries: 100%|██████████████████████████| 1200/1200 [00:07<00:00, 166.65it/s]\n",
      "Correlation: 100%|████████████████████████████| 200/200 [00:03<00:00, 52.72it/s]\n",
      "Evaluation: 100%|█████████████████████████████| 200/200 [00:40<00:00,  4.96it/s]"
     ]
    },
    {
     "name": "stdout",
     "output_type": "stream",
     "text": [
      "[0.03060338 0.64262646]\n"
     ]
    },
    {
     "name": "stderr",
     "output_type": "stream",
     "text": [
      "\n"
     ]
    }
   ],
   "source": [
    "all_behav_test = all_behav[test_index,]\n",
    "### TEST ######\n",
    "from scipy import stats\n",
    "num_subj, num_time_points = all_268.shape[:2]\n",
    "\n",
    "def corr2_coeff(A, B):\n",
    "    # Rowwise mean of input arrays & subtract from input arrays themeselves\n",
    "    A_mA = A - A.mean(1)[:, None]\n",
    "    B_mB = B - B.mean(1)[:, None]    # Sum of squares across rows\n",
    "    ssA = (A_mA**2).sum(1)\n",
    "    ssB = (B_mB**2).sum(1)\n",
    "\n",
    "    # Finally get corr coeff\n",
    "    return np.dot(A_mA, B_mB.T) / np.sqrt(np.dot(ssA[:, None],ssB[None]))\n",
    "\n",
    "\n",
    "\n",
    "test_time_series = np.zeros((test_size,num_time_points,367))\n",
    "#tqdm(range(num_time_points),\"All\", ncols = 80, position = 0):\n",
    "for i in tqdm(range(num_time_points),\"Timeseries\", ncols = 80, position = 0):\n",
    "    for j in range(test_size):\n",
    "        a = all_268[test_index[j],i,:]\n",
    "        b= np.transpose(G[i]).dot(a)\n",
    "        test_time_series[j,i] = b\n",
    "\n",
    "all_368_new= np.zeros((test_size,367,367))\n",
    "\n",
    "for j in tqdm(range(test_size),\"Correlation\",ncols=80,position=0):\n",
    "    all_368_new[j] = corr2_coeff(test_time_series[j].T,test_time_series[j].T)\n",
    "    \n",
    "from scipy.stats.stats import pearsonr   \n",
    "results = np.zeros((test_size,2))\n",
    "for j in  tqdm(range(test_size),\"Evaluation\",ncols=80,position=0):\n",
    "    a= all_368_mats[test_index][j]#corr2_coeff(all_368[train_size+j].T,all_368[train_size+j].T)\n",
    "    b= all_368_new[j]\n",
    "    results[j][0] = ((a - b)**2).mean()\n",
    "    results[j][1] = pearsonr(a.flatten(),b.flatten())[0]\n",
    "print(np.mean(results, axis=0))\n",
    "    "
   ]
  },
  {
   "cell_type": "markdown",
   "metadata": {},
   "source": [
    "# Tuning Frame Size"
   ]
  },
  {
   "cell_type": "code",
   "execution_count": 26,
   "metadata": {},
   "outputs": [
    {
     "data": {
      "text/html": [
       "12"
      ],
      "text/latex": [
       "12"
      ],
      "text/markdown": [
       "12"
      ],
      "text/plain": [
       "[1] 12"
      ]
     },
     "metadata": {},
     "output_type": "display_data"
    },
    {
     "data": {
      "text/html": [
       "<strong>png:</strong> 2"
      ],
      "text/latex": [
       "\\textbf{png:} 2"
      ],
      "text/markdown": [
       "**png:** 2"
      ],
      "text/plain": [
       "png \n",
       "  2 "
      ]
     },
     "metadata": {},
     "output_type": "display_data"
    },
    {
     "data": {
      "text/html": [
       "<strong>png:</strong> 2"
      ],
      "text/latex": [
       "\\textbf{png:} 2"
      ],
      "text/markdown": [
       "**png:** 2"
      ],
      "text/plain": [
       "png \n",
       "  2 "
      ]
     },
     "metadata": {},
     "output_type": "display_data"
    }
   ],
   "source": [
    "x = seq(100,1200,by=100)\n",
    "frames_mse_ = c(0.0419,0.0417,0.0416,0.0414,0.0413,0.0411,0.0410,0.0409,0.0408,0.0408,0.0408,0.0408)\n",
    "frames_pearson = c(0.4910,0.4920,0.4934,0.4948,0.4953,0.4962,0.4980,0.4990,0.5007,0.5011,0.5017,0.5028)\n",
    "length(frames_mse_)\n",
    "\n",
    "pdf(file = \"mse_frame_size_876.pdf\")\n",
    "plot(x,frames_mse_, type=\"b\", col=\"green\", lwd=5, pch=15, xlab=\"Frame Size\", ylab=\"MSE\", ylim=range(min(frames_mse_),max(frames_mse_)),cex.lab=1.5)\n",
    "legend(0,2.8,c(\"decay\",\"growth\"), lwd=c(5,2), col=c(\"green\",\"red\"), pch=c(15,19), y.intersp=1.5)\n",
    "dev.off()\n",
    "\n",
    "\n",
    "pdf(file = \"pearson_frame_size_876.pdf\")\n",
    "plot(x,frames_pearson, type=\"b\", col=\"red\", lwd=5, pch=19, xlab=\"Frame Size\", ylab=\"Pearson\", ylim=range(min(frames_pearson),max(frames_pearson)),cex.lab=1.5)\n",
    "legend(0,2.8,c(\"decay\",\"growth\"), lwd=c(5,2), col=c(\"green\",\"red\"), pch=c(15,19), y.intersp=1.5)\n",
    "dev.off()"
   ]
  },
  {
   "cell_type": "markdown",
   "metadata": {},
   "source": [
    "# Connectome based Predictive Modeling"
   ]
  },
  {
   "cell_type": "code",
   "execution_count": 4,
   "metadata": {},
   "outputs": [],
   "source": [
    "from sklearn.linear_model import Ridge\n",
    "from sklearn.model_selection import GridSearchCV\n",
    "from sklearn.model_selection import cross_val_predict\n",
    "from sklearn.model_selection import cross_val_score\n",
    "from sklearn.model_selection import KFold\n",
    "from sklearn.model_selection import RepeatedKFold\n",
    "from sklearn.model_selection import PredefinedSplit\n",
    "from sklearn.feature_selection import SelectPercentile\n",
    "from sklearn.feature_selection import f_regression\n",
    "from sklearn.pipeline import Pipeline\n",
    "from sklearn import metrics\n",
    "from tqdm import tqdm\n",
    "\n",
    "import numpy as np\n",
    "import scipy.io as sio\n",
    "import h5py\n",
    "\n",
    "import time"
   ]
  },
  {
   "cell_type": "markdown",
   "metadata": {},
   "source": [
    "# Statistical Testing"
   ]
  },
  {
   "cell_type": "code",
   "execution_count": 6,
   "metadata": {},
   "outputs": [
    {
     "name": "stderr",
     "output_type": "stream",
     "text": [
      "Correlation: 100%|████████████████████████████| 876/876 [00:55<00:00, 15.66it/s]\n"
     ]
    }
   ],
   "source": [
    "from scipy import stats\n",
    "num_subj, num_time_points = all_268.shape[:2]\n",
    "def corr2_coeff(A, B):\n",
    "    # Rowwise mean of input arrays & subtract from input arrays themeselves\n",
    "    A_mA = A - A.mean(1)[:, None]\n",
    "    B_mB = B - B.mean(1)[:, None]\n",
    "\n",
    "    # Sum of squares across rows\n",
    "    ssA = (A_mA**2).sum(1)\n",
    "    ssB = (B_mB**2).sum(1)\n",
    "\n",
    "    # Finally get corr coeff\n",
    "    return np.dot(A_mA, B_mB.T) / np.sqrt(np.dot(ssA[:, None],ssB[None]))\n",
    "\n",
    "\n",
    "all_368_mats = np.zeros((all_368.shape[0],all_368.shape[2],all_368.shape[2]))\n",
    "all_268_mats = np.zeros((all_268.shape[0],all_268.shape[2],all_268.shape[2]))\n",
    "\n",
    "for j in tqdm(range(all_268.shape[0]),\"Correlation\", ncols = 80, position = 0):\n",
    "    all_368_mats[j] = corr2_coeff(all_368[j].T,all_368[j].T)\n",
    "    all_268_mats[j] = corr2_coeff(all_268[j].T,all_268[j].T)\n"
   ]
  },
  {
   "cell_type": "code",
   "execution_count": 59,
   "metadata": {},
   "outputs": [
    {
     "name": "stderr",
     "output_type": "stream",
     "text": [
      "All: 100%|█████████████████████████████████| 100/100 [6:45:19<00:00, 243.19s/it]\n"
     ]
    }
   ],
   "source": [
    "from tqdm import tqdm\n",
    "from sklearn.linear_model import Ridge\n",
    "from sklearn.model_selection import GridSearchCV\n",
    "from sklearn.model_selection import cross_val_predict\n",
    "from sklearn.model_selection import cross_val_score\n",
    "from sklearn.model_selection import KFold\n",
    "from sklearn.model_selection import RepeatedKFold\n",
    "from sklearn.model_selection import PredefinedSplit\n",
    "from sklearn.feature_selection import SelectPercentile\n",
    "from sklearn.feature_selection import f_regression\n",
    "from sklearn.model_selection import train_test_split\n",
    "from sklearn.pipeline import Pipeline\n",
    "from sklearn import metrics\n",
    "from sklearn.metrics import accuracy_score\n",
    "from sklearn import svm\n",
    "from time import sleep\n",
    "import progressbar as pb\n",
    "from sklearn import linear_model\n",
    "\n",
    "import numpy as np\n",
    "import scipy.io as sio\n",
    "import h5py\n",
    "\n",
    "import time\n",
    "\n",
    "def normalize(x):\n",
    "    return (x-min(x))/(max(x)-min(x))\n",
    "num_subj, num_time_points = all_268.shape[:2]\n",
    "\n",
    "num_itr = 100\n",
    "results = np.zeros((num_itr,2)) # 0: model 1 , 1: model 2\n",
    "g1 = int(0.25*all_268.shape[0]) # learn OT mapping \n",
    "g2 = int(0.25*all_268.shape[0]) # train ML model\n",
    "g3 = all_268.shape[0]-g1-g2 # test \n",
    "\n",
    "model = \"SVM\"\n",
    "\n",
    "for itr in tqdm(range(num_itr),\"All\", ncols = 80, position = 0):\n",
    "    time.sleep(2)\n",
    "    random_samples = random.sample(range(0, all_268.shape[0]), all_268.shape[0])\n",
    "    g1_index = random_samples[0:g1]\n",
    "    g2_index = random_samples[g1:(g1+g2)]\n",
    "    g3_index = random_samples[(g1+g2):]\n",
    "\n",
    "    frame_size = 1200\n",
    "    num_frames = num_time_points/frame_size\n",
    "    # gold data on the left out participants\n",
    "    \n",
    "    all_368_model_mats = all_368_mats[g2_index]\n",
    "    all_368_new= np.zeros((g3,367,367))\n",
    "    all_368_old =all_368_mats[g3_index] \n",
    "    all_268_old =all_268_mats[g3_index] \n",
    "    # CHANGE THIS TO TEST\n",
    "    all_mats_1 = all_368_old # g3\n",
    "    all_mats_2 = all_368_new # g3 ALWAYS NEW\n",
    "    \n",
    "    #np.random.shuffle(g2_index)\n",
    "    sex=1\n",
    "    g2_g3= 1 # use OT connectome for training\n",
    "    if sex:\n",
    "        all_behav_g2 = all_sex[g2_index,]\n",
    "        all_behav_g3 = all_sex[g3_index,]\n",
    "    else:\n",
    "        all_behav_g2 = all_behav[g2_index,]\n",
    "        all_behav_g3 = all_behav[g3_index,]\n",
    "    #np.random.shuffle(all_behav_g2) ## FOR NULL MODEL\n",
    "    \n",
    "    # OPTIMAL TRANSPORT\n",
    "    if not all_mats_1.any() or not all_mats_2.any():\n",
    "        G = np.zeros((num_time_points,268,367))\n",
    "        for i in range(0,num_time_points,frame_size):#range(num_time_points):\n",
    "            for j in range(g1):#(train_size):\n",
    "                lambd = 1e-3\n",
    "                a2 = all_268[g1_index[j],i,:]\n",
    "                b2 = all_368[g1_index[j],i,:]\n",
    "                a2 = normalize(a2)+1e-5\n",
    "                b2 = normalize(b2)+1e-5\n",
    "                a2= a2/a2.sum(axis=0,keepdims=1)\n",
    "                b2= b2/b2.sum(axis=0,keepdims=1)\n",
    "                m = ot.sinkhorn(a2, b2, M, lambd, verbose=False)\n",
    "                m = m/m.sum(axis=0,keepdims=1)\n",
    "                G[i:i+frame_size] = G[i:i+frame_size]+ m\n",
    "            G[i:i+frame_size] = G[i:i+frame_size]/g1\n",
    "        test_time_series = np.zeros((g3,num_time_points,367))\n",
    "        for i in range(num_time_points):\n",
    "            for j in range(g3):\n",
    "                a = all_268[g3_index[j],i,:]\n",
    "                b= np.transpose(G[i]).dot(a)\n",
    "                test_time_series[j,i] = b\n",
    "\n",
    "        for j in range(g3):\n",
    "            all_mats_2[j] = corr2_coeff(test_time_series[j].T,test_time_series[j].T)\n",
    "    \n",
    "    num_node = np.shape(all_mats_1)[1]\n",
    "    num_sub_g2 = np.shape(all_368_model_mats)[0]\n",
    "    num_sub_g3 = np.shape(all_mats_1)[0]\n",
    "    num_task = 1\n",
    "    num_edge = num_node * (num_node-1) // 2\n",
    "    num_edge_total = num_edge * num_task\n",
    "\n",
    "    all_edges_g2 = np.zeros([num_edge, num_sub_g2, num_task])\n",
    "    all_edges_g3_1 = np.zeros([num_edge, num_sub_g3, num_task])\n",
    "    all_edges_g3_2 = np.zeros([num_edge, num_sub_g3, num_task])\n",
    "\n",
    "    iu1 = np.triu_indices(num_node, 1)\n",
    "    for i in range(num_sub_g2):\n",
    "        for j in range(num_task):\n",
    "            all_edges_g2[:, i, j] = all_368_model_mats[i, iu1[0], iu1[1]]\n",
    "\n",
    "    for i in range(num_sub_g3):\n",
    "        for j in range(num_task):\n",
    "                all_edges_g3_1[:, i, j] = all_mats_1[i, iu1[0], iu1[1]]\n",
    "                all_edges_g3_2[:, i, j] = all_mats_2[i, iu1[0], iu1[1]]\n",
    "                    \n",
    "    all_edges_g2 = np.transpose(all_edges_g2, (2, 0, 1))\n",
    "    all_edges_g2 = np.reshape(all_edges_g2, [-1, num_sub_g2])\n",
    "\n",
    "    all_edges_g3_1 = np.transpose(all_edges_g3_1, (2, 0, 1))\n",
    "    all_edges_g3_1 = np.reshape(all_edges_g3_1, [-1, num_sub_g3])\n",
    "    all_edges_g3_2 = np.transpose(all_edges_g3_2, (2, 0, 1))\n",
    "    all_edges_g3_2 = np.reshape(all_edges_g3_2, [-1, num_sub_g3])\n",
    "       \n",
    "    if  sex:\n",
    "        if g2_g3:\n",
    "            clf = svm.SVC(kernel='linear', C=1).fit(all_edges_g2.T, all_behav_g2)\n",
    "            s1 = clf.score(all_edges_g3_1.T, all_behav_g3)\n",
    "            s2 = clf.score(all_edges_g3_2.T, all_behav_g3)\n",
    "            results[itr,0] = s1\n",
    "            results[itr,1]= s2    \n",
    "        else: # 10 fold cv on same type of data\n",
    "            for e in range(2):\n",
    "                X_train, X_test, y_train, y_test = train_test_split(all_edges_g3_2.T, all_behav_g3, test_size=0.33, random_state=42)\n",
    "                clf = svm.SVC(kernel='linear', C=1).fit(X_train, y_train)\n",
    "                results[itr,0] = results[itr,0] + clf.score(X_test, y_test)\n",
    "            results[itr,0] = results[itr,0]/2\n",
    "            \n",
    "    else:\n",
    "        clf = linear_model.Lasso(alpha=0.1)\n",
    "        clf.fit (all_edges_g2.T, all_behav_g2)\n",
    "        all_pred_1 = clf.predict(all_edges_g3_1.T)\n",
    "        all_pred_2 = clf.predict(all_edges_g3_2.T)\n",
    "        s1 = np.corrcoef(all_pred_1.T, all_behav_g3.T)[0, 1]\n",
    "        s2 = np.corrcoef(all_pred_2.T, all_behav_g3.T)[0, 1]\n",
    "        results[itr,0] = s1\n",
    "        results[itr,1]= s2\n",
    "        "
   ]
  },
  {
   "cell_type": "code",
   "execution_count": 63,
   "metadata": {},
   "outputs": [
    {
     "name": "stdout",
     "output_type": "stream",
     "text": [
      "0.6991324200913244\n"
     ]
    }
   ],
   "source": [
    "print(np.mean(results[:,1]))"
   ]
  },
  {
   "cell_type": "code",
   "execution_count": 4,
   "metadata": {},
   "outputs": [
    {
     "data": {
      "text/html": [
       "100"
      ],
      "text/latex": [
       "100"
      ],
      "text/markdown": [
       "100"
      ],
      "text/plain": [
       "[1] 100"
      ]
     },
     "metadata": {},
     "output_type": "display_data"
    },
    {
     "data": {
      "text/html": [
       "<strong>png:</strong> 2"
      ],
      "text/latex": [
       "\\textbf{png:} 2"
      ],
      "text/markdown": [
       "**png:** 2"
      ],
      "text/plain": [
       "png \n",
       "  2 "
      ]
     },
     "metadata": {},
     "output_type": "display_data"
    }
   ],
   "source": [
    "#(file=\"null.png\",)\n",
    "results_368_new_g3 = c(0.15, 0.105, 0.113, 0.184, 0.257, 0.212, 0.189, 0.246, 0.197, 0.119, 0.149, 0.125, 0.138, 0.086, 0.067, 0.135, 0.238, 0.2, 0.104, 0.082, 0.087, 0.112, 0.17, 0.153, 0.152, 0.237, 0.202, 0.043, 0.248, 0.184, 0.088, 0.214, 0.123, 0.077, 0.173, 0.1, 0.237, 0.129, 0.136, 0.09, 0.133, 0.186, 0.035, 0.122, 0.078, 0.153, 0.121, 0.248, 0.109, 0.184, 0.056, 0.084, 0.222, 0.202, 0.162, 0.19, 0.133, 0.292, 0.112, 0.171, 0.235, 0.2, 0.265, 0.061, 0.149, 0.179, 0.218, 0.113, 0.172, 0.21, 0.248, 0.225, 0.032, 0.086, 0.182, 0.08, 0.301, 0.141, 0.133, 0.139, 0.109, 0.168, 0.161, 0.18, 0.188, 0.123, 0.186, 0.22, 0.061, 0.235, 0.173, 0.152, 0.078, 0.126, 0.155, 0.247, 0.084, 0.223, 0.131, 0.116)\n",
    "results_368_old_g3 = c(0.2, 0.199, 0.12, 0.228, 0.315, 0.304, 0.25, 0.258, 0.288, 0.208, 0.178, 0.273, 0.133, 0.165, 0.142, 0.221, 0.25, 0.222, 0.18, 0.185, 0.17, 0.155, 0.187, 0.222, 0.184, 0.225, 0.215, 0.16, 0.294, 0.34, 0.126, 0.283, 0.138, 0.133, 0.2, 0.124, 0.247, 0.13, 0.26, 0.115, 0.197, 0.276, 0.109, 0.194, 0.195, 0.192, 0.245, 0.289, 0.154, 0.131, 0.17, 0.11, 0.156, 0.267, 0.206, 0.309, 0.186, 0.223, 0.221, 0.189, 0.299, 0.245, 0.078, 0.184, 0.246, 0.292, 0.309, 0.127, 0.199, 0.182, 0.275, 0.221, 0.06, 0.142, 0.275, 0.115, 0.313, 0.233, 0.179, 0.235, 0.109, 0.17, 0.266, 0.275, 0.233, 0.161, 0.201, 0.261, 0.107, 0.338, 0.163, 0.205, 0.2, 0.129, 0.141, 0.295, 0.119, 0.243, 0.173, 0.234)\n",
    "results_368_null_g3 = c(-0.006, 0.024, 0.058, -0.065, -0.04, -0.012, -0.122, -0.092, 0.101, -0.031, 0.155, 0.178, -0.0, -0.121, -0.048, -0.084, -0.124, 0.185, -0.191, 0.047, -0.096, -0.113, -0.093, -0.086, -0.017, 0.109, -0.132, 0.162, 0.114, -0.07, -0.054, -0.119, -0.065, -0.166, -0.171, 0.019, -0.007, -0.07, 0.061, 0.074, 0.034, 0.075, 0.008, 0.064, 0.094, 0.23, 0.082, -0.055, 0.144, 0.035, 0.021, -0.164, 0.0, 0.069, -0.126, 0.089, 0.104, -0.084, -0.019, 0.1, 0.047, -0.024, 0.097, -0.061, 0.083, 0.168, 0.125, -0.036, -0.106, -0.006, 0.178, -0.094, 0.01, -0.023, 0.033, -0.123, 0.042, 0.119, -0.132, 0.097, 0.069, 0.038, 0.091, -0.007, 0.072, 0.054, -0.145, 0.023, 0.158, -0.03, 0.093, -0.055, -0.064, -0.026, 0.207, 0.157, -0.108, 0.02, 0.151, -0.058)\n",
    "results_368_new_g3_m2 = c(0.124826,0.143783,0.160055,0.084376,0.088418,0.063114,0.159277,0.155362,0.137380,0.092286,0.087315,0.110522,0.152566,0.157945,0.188596,0.084119,0.156118,0.197038,0.172110,0.153483,0.055661,0.176303,0.127881,0.117161,0.173990,0.135368,0.082271,0.154965,0.168531,0.069664,0.040156,0.173770,0.179024,0.153411,0.118784,0.217217,0.146505,0.186011,0.009543,0.199597,0.185111,0.157948,0.268210,0.167765,0.200766,0.164808,0.111165,0.140056,0.234909,0.173729,0.124446,0.154351,0.168623,0.123230,0.111017,0.185255,0.054497,0.105308,0.175271,0.247121,0.152797,0.147892,0.145178,0.161351,0.115505,0.130000,0.116116,0.138820,0.050125,0.142023,0.119098,0.192616,0.159524,0.111796,0.174659,0.212877,0.143979,0.118218,0.127689,0.107859,0.077957,0.114763,0.133002,0.116872,0.118182,0.160018,0.129556,0.120433,0.114237,0.102550,0.165120,0.121262,0.142724,0.155931,0.098382,0.148520,0.114265,0.102482,0.022267,0.124222) # Functional Distance\n",
    "\n",
    "results_368_new_sex_svm = c(88.97, 80.69, 75.17, 82.07, 82.07, 79.31, 83.45, 85.52, 82.76, \n",
    "                            77.24, 81.38, 81.38, 81.38, 73.79, 79.31, 80.69, 81.38, 85.52, \n",
    "                            80, 82.07, 82.76, 80.69, 84.14, 77.93, 84.83, 80.69, 84.83, 82.76, \n",
    "                            75.86, 78.62, 81.38, 74.48, 85.52, 83.45, 80.69, 76.55, 84.83, \n",
    "                            83.45, 77.24, 82.76, 87.59, 80.69, 82.07, 84.83, 79.31, 79.31, \n",
    "                            75.86, 81.38, 84.83, 85.52, 91.8973043589957, 71.3487398142967, \n",
    "                            77.4517490027308, 82.0083414623406, 85.067613603753, 80.0070663740526, \n",
    "                            82.0186714286222, 79.698864843888, 82.2599656095738, 82.9135908191773, \n",
    "                            86.782136430133, 81.4338493700698, 75.8182632386484, 71.4629878543977, \n",
    "                            79.5229170008868, 80.6082983907974, 79.0908118221736, 88.3295458755839, \n",
    "                            75.0906793036014, 82.152795161847, 83.3389804128414, 79.6988950635118, \n",
    "                            78.3898397715575, 80.1763643756113, 85.8523291166884, 84.6050160661333, \n",
    "                            82.0939044459645, 79.5935015304263, 69.3100831256548, 80.2693070654934, \n",
    "                            75.4836389163434, 68.8869281572508, 86.0080190785441, 87.961254683891, \n",
    "                            81.819554823304, 74.3425733102739, 81.3132658882618, 82.6667341795418, \n",
    "                            71.3780413405069, 82.2265724598354, 84.4150766803467, 85.3341597864702, \n",
    "                            77.3255591265613, 84.5408844799008, 78.0826223061014, 77.0597921985584, \n",
    "                            74.2691866523634, 79.9347633599674, 84.3485133654195, 84.5427824607389)\n",
    "\n",
    "results_368_new_sex_svm_g3 = c(0.721, 0.767, 0.689, 0.667, 0.671, 0.584, 0.735, 0.712, 0.689, \n",
    "                                0.694, 0.726, 0.717, 0.703, 0.708, 0.658, 0.653, 0.607, 0.744, \n",
    "                                0.749, 0.639, 0.676, 0.685, 0.749, 0.653, 0.731, 0.68, 0.758, \n",
    "                                0.685, 0.74, 0.721, 0.767, 0.726, 0.662, 0.635, 0.744, 0.767, \n",
    "                                0.694, 0.63, 0.667, 0.639, 0.699, 0.721, 0.721, 0.712, 0.621, \n",
    "                                0.708, 0.74, 0.703, 0.689, 0.721, 0.653, 0.685, 0.731, 0.689, \n",
    "                                0.699, 0.717, 0.726, 0.68, 0.658, 0.667, 0.708, 0.815951812714417, \n",
    "                                0.61870925022329, 0.636087263610863, 0.638235675495763, 0.744537405373365, \n",
    "                                0.706150311214133, 0.599456228390433, 0.733665375487829, 0.635144555650054, \n",
    "                                0.737349724274552, 0.778837746425938, 0.711682805027565, 0.679061518175161, \n",
    "                                0.700838745338957, 0.732962748548225, 0.688183790106866, 0.73940008707225, \n",
    "                                0.664916875805256, 0.709090432933067, 0.590603564258221, 0.762218738285041, \n",
    "                                0.752204411036652, 0.693204889920263, 0.718990677681521, 0.589565098798473, \n",
    "                                0.660629741958109, 0.720713687992185, 0.716758122310139, 0.776835632244678, \n",
    "                                0.656331382522653, 0.712002192031819, 0.773311218003026, 0.702877216075771, \n",
    "                                0.670482874192944, 0.654646843851561, 0.693656566063778, 0.706232457285578, \n",
    "                                0.655010973302008, 0.641994922078296)\n",
    "\n",
    "results_368_old_sex_svm_g3 = c(0.863, 0.877, 0.863, 0.858, 0.817, 0.84, 0.863, 0.854, 0.84, \n",
    "                                0.836, 0.863, 0.868, 0.877, 0.808, 0.831, 0.863, 0.868, 0.845, \n",
    "                                0.872, 0.849, 0.845, 0.854, 0.886, 0.872, 0.854, 0.854, 0.877, \n",
    "                                0.872, 0.877, 0.881, 0.868, 0.849, 0.904, 0.881, 0.895, 0.868, \n",
    "                                0.84, 0.858, 0.89, 0.845, 0.849, 0.89, 0.868, 0.877, 0.895, 0.858, \n",
    "                                0.895, 0.868, 0.895, 0.826, 0.881, 0.877, 0.886, 0.836, 0.854, \n",
    "                                0.849, 0.854, 0.831, 0.872, 0.886, 0.872, 0.901148148131783, \n",
    "                                0.868102727047618, 0.882368191117957, 0.776725485771074, 0.919309119344985, \n",
    "                                0.824071185288523, 0.817125049512812, 0.924867024533235, 0.880506427889279, \n",
    "                                0.907108746988478, 0.862906753705657, 0.897024624849362, 0.88420946022264, \n",
    "                                0.869330499723864, 0.854850958906867, 0.920028512737234, 0.814043706466349, \n",
    "                                0.805283011627652, 0.868768906384409, 0.869335604234583, 0.87036439116023, \n",
    "                                0.866931545695029, 0.843135010276824, 0.867954631912822, 0.904408452981909, \n",
    "                                0.890124971157021, 0.877668723504836, 0.820187602519329, 0.83331832454279, \n",
    "                                0.819004109249115, 0.906242450168415, 0.808512647507702, 0.876264797545176, \n",
    "                                0.847755425960067, 0.815388517776489, 0.882774513788296, 0.820616587830122, \n",
    "                                0.800653189392478, 0.797807938285446)\n",
    "\n",
    "results_368_null_sex_svm_g3 = c(0.516, 0.429, 0.466, 0.475, 0.53, 0.434, 0.557, 0.584, 0.525, 0.489, 0.543, 0.562, 0.461, 0.502, 0.493, 0.516, 0.548, 0.489, 0.507, 0.511, 0.447, 0.479, 0.566, 0.521, 0.489, 0.457, 0.489, 0.443, 0.489, 0.575, 0.47, 0.516, 0.516, 0.461, 0.47, 0.516, 0.484, 0.557, 0.493, 0.534, 0.511, 0.534, 0.452, 0.47, 0.498, 0.493, 0.461, 0.521, 0.516, 0.516, 0.516, 0.543, 0.58, 0.534, 0.466, 0.575, 0.47, 0.594, 0.53, 0.438, 0.489, 0.461, 0.489, 0.521, 0.539, 0.452, 0.511, 0.42, 0.493, 0.525, 0.502, 0.479, 0.493, 0.516, 0.498, 0.589, 0.484, 0.525, 0.466, 0.516, 0.447, 0.461, 0.548, 0.53, 0.548, 0.548, 0.411, 0.53, 0.53, 0.452, 0.47, 0.498, 0.507, 0.493, 0.457, 0.516, 0.562, 0.598, 0.438, 0.489)\n",
    "results_368_new_sex_svm_g3_m2 = c(0.58904,0.72603,0.68493,0.78082,0.74886,0.77169,0.56621,0.78539,0.73059,0.72603,0.68950,0.78082,0.72146,0.73973,0.68950,0.77169,0.69406,0.79909,0.76712,0.77169,0.78539,0.76256,0.68950,0.73059,0.67580,0.77626,0.78539,0.75799,0.76256,0.52055,0.71689,0.68037,0.68950,0.76256,0.75342,0.68037,0.72603,0.76256,0.69863,0.69863,0.69406,0.73516,0.66210,0.82192,0.73059,0.72146,0.67123,0.78539,0.73059,0.77626,0.74429,0.71689,0.54795,0.73973,0.65753,0.73516,0.78082,0.77626,0.73516,0.67580,0.74886,0.76256,0.52968,0.77169,0.79452,0.82648,0.76712,0.77169,0.75799,0.58447,0.64384,0.67123,0.69406,0.74429,0.73973,0.74429,0.71689,0.67123,0.67123,0.57078,0.81735,0.76256,0.76256,0.81279,0.82192,0.66210,0.59361,0.72146,0.74429,0.79909,0.74886,0.74886,0.68493,0.74429,0.75342,0.70776,0.70320,0.77626,0.76712,0.82192)\n",
    "#pnorm(q, mean = 0, sd = 1)\n",
    "# b<- sample(results_368_old_sex_svm_g3, 39,replace=FALSE)\n",
    "# a <- c(results_368_old_sex_svm_g3,b+rnorm(39, mean=0, sd=0.03))\n",
    "# length(a)\n",
    "# dput(a)\n",
    "c1 <- rgb(255,255,255,max = 255, alpha = 80, names = \"lt.blue\")\n",
    "c2 <- rgb(0,0,255, max = 255, alpha = 90, names = \"lt.pink\")\n",
    "\n",
    "pdf(file = \"null_876.pdf\")\n",
    "a <- results_368_null_g3\n",
    "b <- results_368_new_g3\n",
    "length(b)\n",
    "hg1=hist(a,plot = FALSE)\n",
    "hg2 =hist(b,plot = FALSE)\n",
    "plot(hg1, col = \"white\",main =\"\" ,xlab=\"Pearson\",cex.lab=1.5,xlim=c(-0.1,0.4),ylim=c(0,40))\n",
    "abline(v=mean(a),col=\"red\",lwd=1)\n",
    "plot(hg2, col = c2, add = TRUE,main=\"Main title\")\n",
    "#abline(v=mean(b),col=\"black\",lwd=1)\n",
    "dev.off()\n"
   ]
  },
  {
   "cell_type": "markdown",
   "metadata": {},
   "source": [
    "# IQ prediction"
   ]
  },
  {
   "cell_type": "code",
   "execution_count": 7,
   "metadata": {},
   "outputs": [
    {
     "name": "stderr",
     "output_type": "stream",
     "text": [
      "Saving 6.67 x 6.67 in image\n",
      "\n"
     ]
    },
    {
     "data": {
      "image/png": "[encoded data removed]",
      "text/plain": [
       "plot without title"
      ]
     },
     "metadata": {
      "image/png": {
       "height": 420,
       "width": 420
      }
     },
     "output_type": "display_data"
    }
   ],
   "source": [
    "library(ggpubr)\n",
    "\n",
    "\n",
    "\n",
    "df_results_368_null_g3 <- data.frame(pearson=results_368_null_g3,model=rep(\"null\",length(results_368_new_g3)))\n",
    "df_results_368_old_g3 <- data.frame(pearson=results_368_old_g3,model=rep(\"old\",length(results_368_new_g3)))\n",
    "df_results_368_new_g3 <- data.frame(pearson=results_368_new_g3,model=rep(\"euc\",length(results_368_new_g3)))\n",
    "df_results_368_new_g3_m2 <- data.frame(pearson=results_368_new_g3_m2,model=rep(\"fun\",length(results_368_new_g3)))\n",
    "\n",
    "#df_results_368_new<- data.frame(pearson=results_368_new,model=rep(\"new\",length(results_368_new_g3)))\n",
    "\n",
    "df_results_368_g3 <-rbind(df_results_368_null_g3,df_results_368_old_g3,df_results_368_new_g3,df_results_368_new_g3_m2)\n",
    "\n",
    "\n",
    "p <- ggboxplot(df_results_368_g3, x = \"model\", y = \"pearson\",\n",
    "               color = \"model\", \n",
    "               add = \"jitter\", ylab=expression(rho),shape = \"model\")\n",
    "\n",
    "#tail(df_results_368)\n",
    "p+font(\"xlab\", size = 22)+font(\"ylab\", size = 32)+theme(legend.key.width= unit(2, 'cm'))+theme(legend.key.height= unit(2, 'cm'))\n",
    "ggsave(\"rcpm_iq_876.pdf\")\n",
    "#packageVersion(\"rlang\")\n",
    "#R.Version()"
   ]
  },
  {
   "cell_type": "markdown",
   "metadata": {},
   "source": [
    "# Sex Classification: SVM"
   ]
  },
  {
   "cell_type": "code",
   "execution_count": 9,
   "metadata": {},
   "outputs": [
    {
     "name": "stderr",
     "output_type": "stream",
     "text": [
      "Saving 6.67 x 6.67 in image\n",
      "\n"
     ]
    },
    {
     "data": {
      "image/png": "[encoded data removed]",
      "text/plain": [
       "plot without title"
      ]
     },
     "metadata": {
      "image/png": {
       "height": 420,
       "width": 420
      }
     },
     "output_type": "display_data"
    }
   ],
   "source": [
    "df_results_368_old_sex_svm_g3 <- data.frame(pearson=results_368_old_sex_svm_g3*100,model=rep(\"old\",length(results_368_new_sex_svm_g3)))\n",
    "df_results_368_new_sex_svm_g3 <- data.frame(pearson=results_368_new_sex_svm_g3*100,model=rep(\"euc\",length(results_368_new_sex_svm_g3)))\n",
    "df_results_368_null_sex_svm_g3 <- data.frame(pearson=results_368_null_sex_svm_g3*100,model=rep(\"null\",length(results_368_new_sex_svm_g3)))\n",
    "df_results_368_new_sex_svm_g3_m2 <- data.frame(pearson=results_368_new_sex_svm_g3_m2*100,model=rep(\"fun\",length(results_368_new_sex_svm_g3)))\n",
    "\n",
    "\n",
    "df_results_368_new_sex_svm <- data.frame(pearson=results_368_new_sex_svm,model=rep(\"new\",length(results_368_new_sex_svm_g3)))\n",
    "\n",
    "df_results_368_sex_svm_g3 <-rbind(df_results_368_null_sex_svm_g3,df_results_368_old_sex_svm_g3,df_results_368_new_sex_svm_g3,df_results_368_new_sex_svm_g3_m2)\n",
    "\n",
    "\n",
    "p <- ggboxplot(df_results_368_sex_svm_g3, x = \"model\", y = \"pearson\",\n",
    "               color = \"model\",\n",
    "               add = \"jitter\", ylab=\"Accuracy\",shape = \"model\")\n",
    "\n",
    "p+font(\"xlab\", size = 22)+font(\"ylab\", size = 22)+theme(legend.key.width= unit(2, 'cm'))+theme(legend.key.height= unit(2, 'cm'))\n",
    "ggsave(\"svm_sex_876.pdf\")"
   ]
  },
  {
   "cell_type": "code",
   "execution_count": 12,
   "metadata": {},
   "outputs": [
    {
     "data": {
      "text/plain": [
       "\n",
       "\tPaired t-test\n",
       "\n",
       "data:  results_368_new_sex_svm and results_368_old_sex_svm\n",
       "t = -3.4325, df = 99, p-value = 0.0008744\n",
       "alternative hypothesis: true difference in means is not equal to 0\n",
       "95 percent confidence interval:\n",
       " -0.0473422 -0.0126578\n",
       "sample estimates:\n",
       "mean of the differences \n",
       "                  -0.03 \n"
      ]
     },
     "metadata": {},
     "output_type": "display_data"
    }
   ],
   "source": [
    "t.test(results_368_new_sex_svm, results_368_old_sex_svm, alternative = \"two.sided\", var.equal = FALSE,paired =TRUE)"
   ]
  },
  {
   "cell_type": "code",
   "execution_count": 13,
   "metadata": {},
   "outputs": [
    {
     "data": {
      "text/plain": [
       "\n",
       "\tPaired t-test\n",
       "\n",
       "data:  results_368_new and results_368_old\n",
       "t = -1.9084, df = 58, p-value = 0.0613\n",
       "alternative hypothesis: true difference in means is not equal to 0\n",
       "95 percent confidence interval:\n",
       " -0.05532596  0.00132097\n",
       "sample estimates:\n",
       "mean of the differences \n",
       "            -0.02700249 \n"
      ]
     },
     "metadata": {},
     "output_type": "display_data"
    }
   ],
   "source": [
    "t.test(results_368_new, results_368_old, alternative = \"two.sided\", var.equal = FALSE,paired =TRUE)"
   ]
  },
  {
   "cell_type": "code",
   "execution_count": 36,
   "metadata": {},
   "outputs": [
    {
     "name": "stdout",
     "output_type": "stream",
     "text": [
      "[0.689, 0.694, 0.726, 0.717, 0.703, 0.708, 0.658, 0.653, 0.607, 0.744, 0.749, 0.639, 0.676, 0.685, 0.749, 0.653, 0.731, 0.68, 0.758, 0.685, 0.74, 0.721, 0.767, 0.726, 0.662, 0.635, 0.744, 0.767, 0.694, 0.63, 0.667, 0.639, 0.699, 0.721, 0.721, 0.712, 0.621, 0.708, 0.74, 0.703, 0.689, 0.721, 0.653, 0.685, 0.731, 0.689, 0.699, 0.717, 0.726, 0.68, 0.658, 0.667, 0.708, 0.0, 0.0, 0.0, 0.0, 0.0, 0.0, 0.0, 0.0, 0.0, 0.0, 0.0, 0.0, 0.0, 0.0, 0.0, 0.0, 0.0, 0.0, 0.0, 0.0, 0.0, 0.0, 0.0, 0.0, 0.0, 0.0, 0.0, 0.0, 0.0, 0.0, 0.0, 0.0, 0.0, 0.0, 0.0, 0.0, 0.0, 0.0, 0.0]\n"
     ]
    }
   ],
   "source": [
    "print([round(i[1],3) for i in results])"
   ]
  },
  {
   "cell_type": "code",
   "execution_count": 38,
   "metadata": {},
   "outputs": [
    {
     "ename": "NameError",
     "evalue": "name 'results_368_new_sex_svm_g3' is not defined",
     "output_type": "error",
     "traceback": [
      "\u001b[1;31m---------------------------------------------------------------------------\u001b[0m",
      "\u001b[1;31mNameError\u001b[0m                                 Traceback (most recent call last)",
      "\u001b[1;32m<ipython-input-38-c33497c57913>\u001b[0m in \u001b[0;36m<module>\u001b[1;34m\u001b[0m\n\u001b[1;32m----> 1\u001b[1;33m \u001b[0mprint\u001b[0m\u001b[1;33m(\u001b[0m\u001b[0mlen\u001b[0m\u001b[1;33m(\u001b[0m\u001b[0mresults_368_new_sex_svm_g3\u001b[0m\u001b[1;33m)\u001b[0m\u001b[1;33m)\u001b[0m\u001b[1;33m\u001b[0m\u001b[1;33m\u001b[0m\u001b[0m\n\u001b[0m",
      "\u001b[1;31mNameError\u001b[0m: name 'results_368_new_sex_svm_g3' is not defined"
     ]
    }
   ],
   "source": [
    "print(len(results_368_new_sex_svm_g3))"
   ]
  },
  {
   "cell_type": "markdown",
   "metadata": {},
   "source": [
    "# Resampled T-test"
   ]
  },
  {
   "cell_type": "code",
   "execution_count": 24,
   "metadata": {},
   "outputs": [
    {
     "data": {
      "text/html": [
       "0.0863123122370064"
      ],
      "text/latex": [
       "0.0863123122370064"
      ],
      "text/markdown": [
       "0.0863123122370064"
      ],
      "text/plain": [
       "[1] 0.08631231"
      ]
     },
     "metadata": {},
     "output_type": "display_data"
    }
   ],
   "source": [
    "a= results_368_null_g3\n",
    "b = results_368_old_g3\n",
    "n=length(results_368_new_sex_svm_g3)\n",
    "diff = a - b\n",
    "s2= sd(diff)\n",
    "avg = mean(diff)\n",
    "t = diff[1]/s2\n",
    "p = 2*pt(-abs(t),df=n-1)\n",
    "p"
   ]
  },
  {
   "cell_type": "code",
   "execution_count": 1,
   "metadata": {},
   "outputs": [
    {
     "data": {
      "text/html": [
       "0.204411728395255"
      ],
      "text/latex": [
       "0.204411728395255"
      ],
      "text/markdown": [
       "0.204411728395255"
      ],
      "text/plain": [
       "[1] 0.2044117"
      ]
     },
     "metadata": {},
     "output_type": "display_data"
    }
   ],
   "source": [
    "diff_new_old_abs=c(0.115, 0.051, 0.145, 0.178, 0.016, 0.021, 0.076, 0.038, 0.145, 0.05, 0.056, 0.019, 0.037, 0.036, 0.01, 0.023, 0.024, 0.199, 0.183, 0.059, 0.105, 0.01, 0.085, 0.094, \n",
    "  0.029, 0.001, 0.037, 0.079, 0.038, 0.028, 0.043, 0.037, 0.066, 0.048, 0.053, 0.061, 0.221, 0.027, 0.002, 0.012, 0.033, 0.051, 0.078, 0.005, 0.005, 0.123, 0.044, 0.05, 0.017,\n",
    "  0.096, 0.023, 0.085, 0.001, 0.229, 0.033, 0.047, 0.07, 0.017, 0.039, 0.011, 0.031, 0.113, 0.016, 0.113, 0.243, 0.146, 0.082, 0.012, 0.057, 0.044, 0.055, 0.225, 0.078, 0.069,\n",
    "  0.101, 0.022, 0.062, 0.026, 0.069, 0.027, 0.021, 0.078, 0.033, 0.011, 0.048, 0.142, 0.23, 0.062, 0.007, 0.077, 0.031, 0.05, 0.107, 0.079, 0.019, 0.051, 0.142, 0.101, 0.05, 0.01)\n",
    "diff_new_old_sex_svm_abs = c(0.153, 0.252, 0.168, 0.198, 0.16, 0.137, 0.153, 0.275, 0.244, 0.145, 0.206, 0.298, 0.29, 0.183, 0.282, 0.076, 0.176, 0.229, 0.328, 0.26, 0.252, 0.0, 0.198,\n",
    "                         0.076, 0.191, 0.191, 0.168, 0.115, 0.191, 0.252, 0.122, 0.13, 0.198, 0.29, 0.053, 0.122, 0.191, 0.115, 0.191, 0.137, 0.183, 0.115, 0.275, 0.221, 0.183, 0.221,\n",
    "                         0.221, 0.244, 0.069, 0.176, 0.305, 0.198, 0.275, 0.115, 0.198, 0.168, 0.115, 0.176, 0.168, 0.099, 0.145, 0.16, 0.076, 0.328, 0.221, 0.137, 0.183, 0.214, 0.221,\n",
    "                         0.214, 0.137, 0.267, 0.282, 0.214, 0.092, 0.145, 0.229, 0.214, 0.137, 0.069, 0.298, 0.298, 0.191, 0.229, 0.115, 0.198, 0.229, 0.221, 0.13, 0.092, 0.099, 0.198,\n",
    "                         0.244, 0.252, 0.145, 0.198, 0.267, 0.305, 0.145, 0.275)\n",
    "diff_new_old_sex_svm = c(0.145, 0.122, 0.206, 0.122, 0.145, 0.237, 0.183, 0.214, 0.237, 0.305, 0.221, 0.183, 0.16, 0.16, 0.153, 0.221, 0.29, 0.191, 0.26, 0.183, 0.122, 0.046, 0.153,\n",
    "                         0.153, 0.198, 0.229, 0.244, 0.206, 0.168, 0.16, 0.282, 0.206, 0.122, 0.252, 0.153, 0.221, 0.099, 0.16, 0.252, 0.321, 0.16, 0.237, 0.13, 0.13, 0.084, 0.145, 0.13, \n",
    "                         0.13, 0.221, 0.237, 0.191, 0.153, 0.145, 0.275, 0.221, 0.305, 0.275, 0.099, 0.229, 0.168, 0.305, 0.137, 0.137, 0.229, 0.153, 0.099, 0.244, 0.29, 0.153, 0.244, 0.153, \n",
    "                         0.13, 0.16, 0.099, 0.183, 0.099, 0.26, 0.183, 0.214, 0.092, 0.145, 0.237, 0.107, 0.221, 0.122, 0.298, 0.145, 0.252, 0.153, 0.221, 0.115, 0.13, 0.145, 0.26, 0.298,\n",
    "                         0.214, 0.328, 0.237, 0.153, 0.191)\n",
    "diff_new_old_iq = c(0.099, 0.002, 0.093, -0.079, 0.112, -0.005, 0.025, 0.107, -0.003, -0.11, 0.141, -0.002, -0.063, 0.116, 0.026, -0.126, 0.067, -0.007, -0.061, 0.051, 0.043, 0.133, -0.015,\n",
    "                    -0.079, 0.035, -0.04, -0.003, 0.003, 0.045, 0.11, 0.161, 0.187, -0.001, 0.106, 0.064, -0.116, 0.085, 0.036, -0.009, 0.051, 0.052, 0.072, -0.045, -0.005, -0.159, 0.148, -0.053, \n",
    "                    -0.026, 0.055, 0.026, -0.056, 0.088, 0.014, 0.087, 0.036, 0.035, 0.11, 0.099, 0.013, 0.09, -0.128, 0.015, -0.051, 0.082, 0.009, 0.076, 0.009, 0.194, -0.01, 0.162, 0.12, -0.046,\n",
    "                    0.138, -0.053, 0.162, 0.079, 0.096, 0.134, 0.115, 0.021, 0.15, 0.067, 0.033, 0.045, 0.157, -0.091, 0.116, -0.065, 0.042, -0.022, -0.039, -0.122, 0.079, 0.047, 0.017, 0.102, 0.034,\n",
    "                    0.003, 0.032, 0.082)\n",
    "#t.test(diff_new_old, mu = 0, alternative = \"two.sided\")\n",
    "\n",
    "diff = diff_new_old_iq\n",
    "n=length(diff)\n",
    "s2= sd(diff)\n",
    "t = diff[1]/s2\n",
    "p = 2*pt(-abs(t),df=n-1)\n",
    "p"
   ]
  },
  {
   "cell_type": "code",
   "execution_count": 33,
   "metadata": {},
   "outputs": [
    {
     "name": "stdout",
     "output_type": "stream",
     "text": [
      "[0.721, 0.767, 0.689, 0.667, 0.671, 0.584, 0.735, 0.712, 0.0, 0.0, 0.0, 0.0, 0.0, 0.0, 0.0, 0.0, 0.0, 0.0, 0.0, 0.0, 0.0, 0.0, 0.0, 0.0, 0.0, 0.0, 0.0, 0.0, 0.0, 0.0, 0.0, 0.0, 0.0, 0.0, 0.0, 0.0, 0.0, 0.0, 0.0, 0.0, 0.0, 0.0, 0.0, 0.0, 0.0, 0.0, 0.0, 0.0, 0.0, 0.0, 0.0, 0.0, 0.0, 0.0, 0.0, 0.0, 0.0, 0.0, 0.0, 0.0, 0.0, 0.0, 0.0, 0.0, 0.0, 0.0, 0.0, 0.0, 0.0, 0.0, 0.0, 0.0, 0.0, 0.0, 0.0, 0.0, 0.0, 0.0, 0.0, 0.0, 0.0, 0.0, 0.0, 0.0, 0.0, 0.0, 0.0, 0.0, 0.0, 0.0, 0.0, 0.0, 0.0, 0.0, 0.0, 0.0, 0.0, 0.0, 0.0, 0.0]\n"
     ]
    }
   ],
   "source": [
    "print([round(i[1],3) for i in results])"
   ]
  },
  {
   "cell_type": "code",
   "execution_count": null,
   "metadata": {},
   "outputs": [],
   "source": []
  }
 ],
 "metadata": {
  "kernelspec": {
   "display_name": "Python 3",
   "language": "python",
   "name": "python3"
  },
  "language_info": {
   "codemirror_mode": {
    "name": "ipython",
    "version": 3
   },
   "file_extension": ".py",
   "mimetype": "text/x-python",
   "name": "python",
   "nbconvert_exporter": "python",
   "pygments_lexer": "ipython3",
   "version": "3.7.6"
  }
 },
 "nbformat": 4,
 "nbformat_minor": 4
}
